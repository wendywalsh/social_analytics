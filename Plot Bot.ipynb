{
 "cells": [
  {
   "cell_type": "markdown",
   "metadata": {},
   "source": [
    "PlotBot\n",
    "\n",
    "In this activity, more challenging than the last, you will build a Twitter bot that sends out visualized sentiment analysis of a Twitter account's recent tweets.\n",
    "\n",
    "Visit https://twitter.com/PlotBot5 for an example of what your script should do.\n",
    "\n",
    "The bot receives tweets via mentions and in turn performs sentiment analysis on the most recent twitter account specified in the mention\n",
    "\n",
    "For example, when a user tweets, \"@PlotBot Analyze: @CNN,\" it will trigger a sentiment analysis on the CNN twitter feed.\n",
    "\n",
    "A plot from the sentiment analysis is then tweeted to the PlotBot5 twitter feed. See below for examples of scatter plots you will generate:\n",
    "\n",
    "@juanitasoranno.png @nancypwong.png nytimes.png\n",
    "\n",
    "Hints, requirements, and considerations:\n",
    "\n",
    "Your bot should scan your account every five minutes for mentions.\n",
    "Your bot should pull 500 most recent tweets to analyze for each incoming request.\n",
    "Your script should prevent abuse by analyzing only Twitter accounts that have not previously been analyzed.\n",
    "Your plot should include meaningful legend and labels.\n",
    "It should also mention the Twitter account name of the requesting user.\n",
    "When submitting your assignment, be sure to have at least three analyses tweeted out from your account (enlist the help of classmates, friends, or family, if necessary!).\n",
    "Notable libraries used to complete this application include: Matplotlib, Pandas, Tweepy, TextBlob, and Seaborn.\n",
    "You may find it helpful to organize your code in function(s), then call them.\n",
    "If you're not yet familiar with creating functions in Python, here is a tutorial you may wish to consult: https://www.tutorialspoint.com/python/python_functions.htm."
   ]
  }
 ],
 "metadata": {
  "kernelspec": {
   "display_name": "Python 3",
   "language": "python",
   "name": "python3"
  },
  "language_info": {
   "codemirror_mode": {
    "name": "ipython",
    "version": 3
   },
   "file_extension": ".py",
   "mimetype": "text/x-python",
   "name": "python",
   "nbconvert_exporter": "python",
   "pygments_lexer": "ipython3",
   "version": "3.6.2"
  }
 },
 "nbformat": 4,
 "nbformat_minor": 2
}
